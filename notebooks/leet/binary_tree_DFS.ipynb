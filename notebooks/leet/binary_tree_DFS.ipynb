{
 "cells": [
  {
   "cell_type": "markdown",
   "metadata": {},
   "source": [
    "# Depth first search"
   ]
  },
  {
   "cell_type": "markdown",
   "metadata": {},
   "source": [
    "## Binary Tree Preorder Traversal\n",
    "Given a binary tree, return the preorder traversal of its nodes' values.  \n",
    "Example:  \n",
    "<img src=\"img/preorder_traverse.png\" alt=\"preorder traversal\" width=\"80%\"/>"
   ]
  },
  {
   "cell_type": "markdown",
   "metadata": {},
   "source": [
    "Example of input/output:\n",
    "```\n",
    "Input: [1,null,2,3]\n",
    "   1\n",
    "    \\\n",
    "     2\n",
    "    /\n",
    "   3\n",
    "Output: [1,2,3]\n",
    "```"
   ]
  },
  {
   "cell_type": "markdown",
   "metadata": {},
   "source": [
    "## Binary Tree Inorder Traversal\n",
    "Given a binary tree, return the inorder traversal of its nodes' values.  \n",
    "Example:  \n",
    "<img src=\"img/inorder_traverse.png\" alt=\"inorder traversal\" width=\"80%\"/>"
   ]
  },
  {
   "cell_type": "markdown",
   "metadata": {},
   "source": [
    "Example of input/output:\n",
    "```\n",
    "Input: [1,null,2,3]\n",
    "   1\n",
    "    \\\n",
    "     2\n",
    "    /\n",
    "   3\n",
    "Output: [1,3,2]\n",
    "```"
   ]
  },
  {
   "cell_type": "markdown",
   "metadata": {},
   "source": [
    "## Binary Tree Postorder Traversal\n",
    "Given a binary tree, return the postorder traversal of its nodes' values.  \n",
    "Example:  \n",
    "<img src=\"img/postorder_traverse.png\" alt=\"postorder traversal\" width=\"80%\"/>"
   ]
  },
  {
   "cell_type": "markdown",
   "metadata": {},
   "source": [
    "Example of input/output:\n",
    "```\n",
    "Input: [1,null,2,3]\n",
    "   1\n",
    "    \\\n",
    "     2\n",
    "    /\n",
    "   3\n",
    "Output: [3,2,1]\n",
    "```"
   ]
  },
  {
   "cell_type": "code",
   "execution_count": 6,
   "metadata": {},
   "outputs": [],
   "source": [
    "from data_structures.Node import TreeNode\n",
    "from typing import List\n",
    "\n",
    "class Solution:\n",
    "    def preorderTraversal(self, root: TreeNode) -> List[int]:\n",
    "        if root is None:\n",
    "            return []\n",
    "        stack = []\n",
    "        ret = []\n",
    "        completed = []\n",
    "        stack.append(root)\n",
    "        completed.append(root)\n",
    "        ret.append(root.val)\n",
    "        currentNode = root\n",
    "        \n",
    "        while True:\n",
    "            if currentNode.left != None and currentNode.left not in completed:\n",
    "                currentNode = currentNode.left\n",
    "                stack.append(currentNode)\n",
    "                ret.append(currentNode.val)\n",
    "            elif currentNode.right != None and currentNode.right not in completed:\n",
    "                currentNode = currentNode.right\n",
    "                stack.append(currentNode)\n",
    "                ret.append(currentNode.val)\n",
    "            else:\n",
    "                completed.append(currentNode)\n",
    "                if len(stack) > 0:\n",
    "                    stack.pop()\n",
    "                if len(stack) > 0:\n",
    "                    currentNode = stack[-1]\n",
    "                else:\n",
    "                    break\n",
    "        return ret\n",
    "    \n",
    "    def inorderTraversal(self, root: TreeNode) -> List[int]:\n",
    "        if root is None:\n",
    "            return []\n",
    "        stack = []\n",
    "        ret = []\n",
    "        completed = []\n",
    "        stack.append(root)\n",
    "        currentNode = root\n",
    "        \n",
    "        while True:\n",
    "            if currentNode.left != None and currentNode.left not in completed:\n",
    "                currentNode = currentNode.left\n",
    "                stack.append(currentNode)\n",
    "            elif currentNode.right != None and currentNode.right not in completed:\n",
    "                ret.append(currentNode.val)\n",
    "                completed.append(currentNode)\n",
    "                currentNode = currentNode.right\n",
    "                stack.append(currentNode)\n",
    "            else:\n",
    "                if currentNode not in completed:\n",
    "                    ret.append(currentNode.val)\n",
    "                    completed.append(currentNode)\n",
    "                if len(stack) > 0:\n",
    "                    stack.pop()\n",
    "                if len(stack) > 0:\n",
    "                    currentNode = stack[-1]\n",
    "                else:\n",
    "                    break\n",
    "        return ret\n",
    "    \n",
    "    def postorderTraversal(self, root: TreeNode) -> List[int]:\n",
    "        if root is None:\n",
    "            return []\n",
    "        stack = []\n",
    "        ret = []\n",
    "        completed = []\n",
    "        stack.append(root)\n",
    "        currentNode = root\n",
    "        \n",
    "        while True:\n",
    "            if currentNode.left != None and currentNode.left not in completed:\n",
    "                currentNode = currentNode.left\n",
    "                stack.append(currentNode)\n",
    "            elif currentNode.right != None and currentNode.right not in completed:\n",
    "                currentNode = currentNode.right\n",
    "                stack.append(currentNode)\n",
    "            else:\n",
    "                if currentNode not in completed:\n",
    "                    ret.append(currentNode.val)\n",
    "                    completed.append(currentNode)\n",
    "                if len(stack) > 0:\n",
    "                    stack.pop()\n",
    "                if len(stack) > 0:\n",
    "                    currentNode = stack[-1]\n",
    "                else:\n",
    "                    break\n",
    "        return ret"
   ]
  },
  {
   "cell_type": "code",
   "execution_count": 7,
   "metadata": {},
   "outputs": [],
   "source": [
    "from data_structures.Node import TreeNode\n",
    "\n",
    "# create input from example\n",
    "three = TreeNode(3)\n",
    "two = TreeNode(2,left=three)\n",
    "one = TreeNode(1,right=two)"
   ]
  },
  {
   "cell_type": "code",
   "execution_count": 8,
   "metadata": {},
   "outputs": [
    {
     "name": "stdout",
     "output_type": "stream",
     "text": [
      "tree: {val:1, left:None, right:{val:2, left:{val:3, left:None, right:None}, right:None}}\n",
      "Preorder traversal:\t [1, 2, 3]\n",
      "Inorder traversal:\t [1, 3, 2]\n",
      "Postorder traversal:\t [3, 2, 1]\n"
     ]
    }
   ],
   "source": [
    "print(\"tree:\",one)\n",
    "sol = Solution()\n",
    "print(\"Preorder traversal:\\t\",sol.preorderTraversal(one))\n",
    "print(\"Inorder traversal:\\t\",sol.inorderTraversal(one))\n",
    "print(\"Postorder traversal:\\t\",sol.postorderTraversal(one))"
   ]
  }
 ],
 "metadata": {
  "kernelspec": {
   "display_name": "Python 3",
   "language": "python",
   "name": "python3"
  },
  "language_info": {
   "codemirror_mode": {
    "name": "ipython",
    "version": 3
   },
   "file_extension": ".py",
   "mimetype": "text/x-python",
   "name": "python",
   "nbconvert_exporter": "python",
   "pygments_lexer": "ipython3",
   "version": "3.7.4"
  }
 },
 "nbformat": 4,
 "nbformat_minor": 4
}
