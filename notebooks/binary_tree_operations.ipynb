{
 "cells": [
  {
   "cell_type": "markdown",
   "metadata": {},
   "source": [
    "## Binary Tree Max Depth\n",
    "Given a binary tree, return its max depth.    \n",
    "<img src=\"img/max_depth.png\" alt=\"max depth\" width=\"80%\"/>"
   ]
  },
  {
   "cell_type": "markdown",
   "metadata": {},
   "source": [
    "Given binary tree [3,9,20,null,null,15,7], Example of input/output:\n",
    "```\n",
    "    3\n",
    "   / \\\n",
    "  9  20\n",
    "    /  \\\n",
    "   15   7\n",
    "```\n",
    "return its max depth:\n",
    "```\n",
    "3\n",
    "```"
   ]
  },
  {
   "cell_type": "markdown",
   "metadata": {},
   "source": [
    "## Binary Tree Symmetry\n",
    "<img src=\"img/tree_symmetry.png\" alt=\"tree symmetry\" width=\"70%\"/>"
   ]
  },
  {
   "cell_type": "markdown",
   "metadata": {},
   "source": [
    "## Binary Tree Path Sum\n",
    "Given a binary tree, check if the tree has a root-to-leaf path such that adding up all the values along the path equals the given sum.\n",
    "<img src=\"img/path_sum.png\" alt=\"path sum\" width=\"50%\"/>"
   ]
  },
  {
   "cell_type": "code",
   "execution_count": 114,
   "metadata": {},
   "outputs": [],
   "source": [
    "from data_structures.Node import TreeNode\n",
    "\n",
    "class Solution:\n",
    "    def maxDepth(self, root: TreeNode) -> int:\n",
    "        depth = 0\n",
    "        if root:\n",
    "            currentLayer = [root]\n",
    "            while currentLayer: #while currentLayer is not empty\n",
    "                depth += 1\n",
    "                nextLayer = []\n",
    "                for node in currentLayer:\n",
    "                    if node.left != None:\n",
    "                        nextLayer.append(node.left)\n",
    "                    if node.right != None:\n",
    "                        nextLayer.append(node.right)\n",
    "                currentLayer = nextLayer\n",
    "        return depth\n",
    "    \n",
    "    def isSymmetric(self, root: TreeNode) -> bool:\n",
    "        if not root:\n",
    "            return True\n",
    "        \n",
    "        treeIsSymmetric = True\n",
    "        leftStack = [root.left]\n",
    "        rightStack = [root.right]\n",
    "        \n",
    "        while leftStack and rightStack:\n",
    "            currentLeft = leftStack.pop()\n",
    "            currentRight = rightStack.pop()\n",
    "            \n",
    "            if not currentLeft or not currentRight:\n",
    "                if currentLeft != currentRight:\n",
    "                    treeIsSymmetric = False\n",
    "                    break   \n",
    "            elif currentLeft.val == currentRight.val:\n",
    "                leftStack.append(currentLeft.right)\n",
    "                rightStack.append(currentRight.left)\n",
    "                leftStack.append(currentLeft.left)\n",
    "                rightStack.append(currentRight.right)\n",
    "            else:\n",
    "                treeIsSymmetric = False\n",
    "                break\n",
    "        return treeIsSymmetric\n",
    "    \n",
    "    def hasPathSumBrute(self, root: TreeNode, sum: int) -> bool: #passes 112/114 tests\n",
    "        if not root:\n",
    "            return False\n",
    "        if root.left==None and root.right==None:\n",
    "            if sum == root.val:\n",
    "                return True\n",
    "            else:\n",
    "                return False\n",
    "        \n",
    "        completed = []\n",
    "        # while root.left!=None and root.left not in completed and root.right!=None and root.right not in completed:\n",
    "        while (root.left!=None and root.left not in completed) or (root.right != None and root.right not in completed):\n",
    "            \n",
    "            sumTree = 0\n",
    "            cn = root #current node\n",
    "            while True:\n",
    "                sumTree += cn.val\n",
    "                if cn.left != None and cn.left not in completed:\n",
    "                    cn = cn.left\n",
    "                elif cn.right != None and cn.right not in completed:\n",
    "                    cn = cn.right\n",
    "                else:\n",
    "                    completed.append(cn)\n",
    "                    break\n",
    "#             print(\"=\"*30)\n",
    "#             print(\"completed:\",[a.val for a in completed])\n",
    "#             print(\"sum:\",sumTree)\n",
    "#             print(\"val:\",cn.val)\n",
    "#             print(\"(root.left not in completed or root.right not in completed):\", (root.left not in completed or root.right not in completed))\n",
    "#             print(\"-root.left:\", root.left.val)\n",
    "#             print(\"-root.right:\", root.right.val)\n",
    "            if cn.left == None and cn.right == None and sumTree == sum:\n",
    "                return True\n",
    "        return False\n",
    "    \n",
    "    def hasPathSum(self, root: TreeNode, sum: int) -> bool: #recursive solution\n",
    "        def set_globvar_to_false():\n",
    "            global globvar\n",
    "            globvar = False\n",
    "        def set_globvar_to_one():\n",
    "            global globvar\n",
    "            globvar = True\n",
    "        def dfsPath(node, total):\n",
    "            if globvar == True:\n",
    "                return True\n",
    "            total += node.val\n",
    "#             print(\"=\"*30)\n",
    "#             print(\"GLOB:\",globvar)\n",
    "#             print(\"val:\",node.val)\n",
    "#             print(\"total:\",total)\n",
    "            if node.left != None:\n",
    "                dfsPath(node.left, total)\n",
    "            if node.right != None:\n",
    "                dfsPath(node.right, total)\n",
    "            if node.right == None and node.left == None and total == sum:\n",
    "                set_globvar_to_one()\n",
    "            \n",
    "        if not root:\n",
    "            return False\n",
    "        set_globvar_to_false()\n",
    "        dfsPath(root,0)\n",
    "        return globvar\n"
   ]
  },
  {
   "cell_type": "code",
   "execution_count": 115,
   "metadata": {},
   "outputs": [],
   "source": [
    "from data_structures.Node import TreeNode\n",
    "\n",
    "# create input from example for max depth\n",
    "fifteen = TreeNode(15)\n",
    "seven = TreeNode(7)\n",
    "nine = TreeNode(9)\n",
    "twenty = TreeNode(20, left=fifteen, right=seven)\n",
    "root = TreeNode(3, left=nine, right=twenty)\n",
    "\n",
    "# create input from example for symmetry\n",
    "sym_three_left = TreeNode(3)\n",
    "sym_three_right = TreeNode(3)\n",
    "sym_four_left = TreeNode(4)\n",
    "sym_four_right = TreeNode(4)\n",
    "sym_two_left = TreeNode(2,left=sym_three_left,right=sym_four_left)\n",
    "sym_two_right = TreeNode(2,left=sym_four_right,right=sym_three_right)\n",
    "sym_root = TreeNode(1,left=sym_two_left,right=sym_two_right)\n",
    "\n",
    "# create input from example for path sum\n",
    "path_seven = TreeNode(7)\n",
    "path_two = TreeNode(2)\n",
    "path_thirteen = TreeNode(13)\n",
    "path_one = TreeNode(1)\n",
    "path_eleven = TreeNode(11,left=path_seven,right=path_two)\n",
    "path_four_left = TreeNode(4,left=path_eleven)\n",
    "path_four_right = TreeNode(4,right=path_one)\n",
    "path_eight = TreeNode(8,left=path_thirteen,right=path_four_right)\n",
    "path_root = TreeNode(5,left=path_four_left,right=path_eight)\n",
    "\n",
    "# create input from example for path sum negative\n",
    "wro_min_1 = TreeNode(-1)\n",
    "wro_min_2_r = TreeNode(-2)\n",
    "wro_3 = TreeNode(3)\n",
    "wro_1 = TreeNode(1,left=wro_min_1)\n",
    "wro_min_2_l = TreeNode(-2,left=wro_1,right=wro_3)\n",
    "wro_min_3 = TreeNode(-3,left=wro_min_2_r)\n",
    "wro_root = TreeNode(1,left=wro_min_2_l,right=wro_min_3)\n"
   ]
  },
  {
   "cell_type": "code",
   "execution_count": 116,
   "metadata": {},
   "outputs": [
    {
     "name": "stdout",
     "output_type": "stream",
     "text": [
      "depth tree: {val:3, left:{val:9, left:None, right:None}, right:{val:20, left:{val:15, left:None, right:None}, right:{val:7, left:None, right:None}}}\n",
      "Max depth: 3\n",
      "==============================\n",
      "symmetry tree: {val:1, left:{val:2, left:{val:3, left:None, right:None}, right:{val:4, left:None, right:None}}, right:{val:2, left:{val:4, left:None, right:None}, right:{val:3, left:None, right:None}}}\n",
      "Is symmetric: True\n",
      "==============================\n",
      "path tree: {val:5, left:{val:4, left:{val:11, left:{val:7, left:None, right:None}, right:{val:2, left:None, right:None}}, right:None}, right:{val:8, left:{val:13, left:None, right:None}, right:{val:4, left:None, right:{val:1, left:None, right:None}}}}\n",
      "Is path sum: True\n"
     ]
    }
   ],
   "source": [
    "sol = Solution()\n",
    "print(\"depth tree:\",root)\n",
    "print(\"Max depth:\", sol.maxDepth(root))\n",
    "print(30*'=')\n",
    "print(\"symmetry tree:\",sym_root)\n",
    "print(\"Is symmetric:\",sol.isSymmetric(sym_root))\n",
    "print(30*'=')\n",
    "print(\"path tree:\",path_root)\n",
    "print(\"Is path sum:\",sol.hasPathSumBrute(path_root,22))\n",
    "\n"
   ]
  },
  {
   "cell_type": "code",
   "execution_count": 117,
   "metadata": {},
   "outputs": [
    {
     "name": "stdout",
     "output_type": "stream",
     "text": [
      "{val:1, left:{val:-2, left:{val:1, left:{val:-1, left:None, right:None}, right:None}, right:{val:3, left:None, right:None}}, right:{val:-3, left:{val:-2, left:None, right:None}, right:None}}\n",
      "Is path sum: True\n"
     ]
    }
   ],
   "source": [
    "print(wro_root)\n",
    "print(\"Is path sum:\",sol.hasPathSumBrute(wro_root,-4))"
   ]
  },
  {
   "cell_type": "code",
   "execution_count": 118,
   "metadata": {},
   "outputs": [
    {
     "name": "stdout",
     "output_type": "stream",
     "text": [
      "{val:5, left:{val:4, left:{val:11, left:{val:7, left:None, right:None}, right:{val:2, left:None, right:None}}, right:None}, right:{val:8, left:{val:13, left:None, right:None}, right:{val:4, left:None, right:{val:1, left:None, right:None}}}}\n",
      "Is path sum: True\n"
     ]
    }
   ],
   "source": [
    "print(path_root)\n",
    "print(\"Is path sum:\",sol.hasPathSum(path_root,22))"
   ]
  }
 ],
 "metadata": {
  "kernelspec": {
   "display_name": "Python 3",
   "language": "python",
   "name": "python3"
  },
  "language_info": {
   "codemirror_mode": {
    "name": "ipython",
    "version": 3
   },
   "file_extension": ".py",
   "mimetype": "text/x-python",
   "name": "python",
   "nbconvert_exporter": "python",
   "pygments_lexer": "ipython3",
   "version": "3.7.4"
  }
 },
 "nbformat": 4,
 "nbformat_minor": 4
}
