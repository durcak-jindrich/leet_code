{
 "cells": [
  {
   "cell_type": "markdown",
   "metadata": {},
   "source": [
    "## Binary Tree Max Depth\n",
    "Given a binary tree, return its max depth.    \n",
    "<img src=\"img/max_depth.png\" alt=\"max depth\" width=\"80%\"/>"
   ]
  },
  {
   "cell_type": "markdown",
   "metadata": {},
   "source": [
    "Given binary tree [3,9,20,null,null,15,7], Example of input/output:\n",
    "```\n",
    "    3\n",
    "   / \\\n",
    "  9  20\n",
    "    /  \\\n",
    "   15   7\n",
    "```\n",
    "return its max depth:\n",
    "```\n",
    "3\n",
    "```"
   ]
  },
  {
   "cell_type": "markdown",
   "metadata": {},
   "source": [
    "## Binary Tree Symmetry\n",
    "Given a binary tree, check whether it is a mirror of itself.    \n",
    "<img src=\"img/tree_symmetry.png\" alt=\"tree symmetry\" width=\"70%\"/>"
   ]
  },
  {
   "cell_type": "code",
   "execution_count": 70,
   "metadata": {},
   "outputs": [],
   "source": [
    "from data_structures.Node import TreeNode\n",
    "\n",
    "class Solution:\n",
    "    def maxDepth(self, root: TreeNode) -> int:\n",
    "        depth = 0\n",
    "        if root:\n",
    "            currentLayer = [root]\n",
    "            while currentLayer: #while currentLayer is not empty\n",
    "                depth += 1\n",
    "                nextLayer = []\n",
    "                for node in currentLayer:\n",
    "                    if node.left != None:\n",
    "                        nextLayer.append(node.left)\n",
    "                    if node.right != None:\n",
    "                        nextLayer.append(node.right)\n",
    "                currentLayer = nextLayer\n",
    "        return depth\n",
    "    \n",
    "    def isSymmetric(self, root: TreeNode) -> bool:\n",
    "        if not root:\n",
    "            return True\n",
    "        \n",
    "        treeIsSymmetric = True\n",
    "        leftStack = [root.left]\n",
    "        rightStack = [root.right]\n",
    "        \n",
    "        while leftStack and rightStack:\n",
    "            currentLeft = leftStack.pop()\n",
    "            currentRight = rightStack.pop()\n",
    "            \n",
    "            if not currentLeft or not currentRight:\n",
    "                if currentLeft != currentRight:\n",
    "                    treeIsSymmetric = False\n",
    "                    break   \n",
    "            elif currentLeft.val == currentRight.val:\n",
    "                leftStack.append(currentLeft.right)\n",
    "                rightStack.append(currentRight.left)\n",
    "                leftStack.append(currentLeft.left)\n",
    "                rightStack.append(currentRight.right)\n",
    "            else:\n",
    "                treeIsSymmetric = False\n",
    "                break\n",
    "        return treeIsSymmetric"
   ]
  },
  {
   "cell_type": "code",
   "execution_count": 73,
   "metadata": {},
   "outputs": [],
   "source": [
    "from data_structures.Node import TreeNode\n",
    "\n",
    "# create input from example for max depth\n",
    "fifteen = TreeNode(15)\n",
    "seven = TreeNode(7)\n",
    "nine = TreeNode(9)\n",
    "twenty = TreeNode(20, left=fifteen, right=seven)\n",
    "root = TreeNode(3, left=nine, right=twenty)\n",
    "\n",
    "# create input from example for symmetry\n",
    "sym_three_left = TreeNode(3)\n",
    "sym_three_right = TreeNode(3)\n",
    "sym_four_left = TreeNode(4)\n",
    "sym_four_right = TreeNode(4)\n",
    "sym_two_left = TreeNode(2,left=sym_three_left,right=sym_four_left)\n",
    "sym_two_right = TreeNode(2,left=sym_four_right,right=sym_three_right)\n",
    "sym_root = TreeNode(1,left=sym_two_left,right=sym_two_right)"
   ]
  },
  {
   "cell_type": "code",
   "execution_count": 74,
   "metadata": {},
   "outputs": [
    {
     "name": "stdout",
     "output_type": "stream",
     "text": [
      "depth tree: {val:3, left:{val:9, left:None, right:None}, right:{val:20, left:{val:15, left:None, right:None}, right:{val:7, left:None, right:None}}}\n",
      "Max depth: 3\n",
      "==============================\n",
      "symmetry tree: {val:1, left:{val:2, left:{val:3, left:None, right:None}, right:{val:4, left:None, right:None}}, right:{val:2, left:{val:4, left:None, right:None}, right:{val:3, left:None, right:None}}}\n",
      "Is symmetric: True\n"
     ]
    }
   ],
   "source": [
    "sol = Solution()\n",
    "print(\"depth tree:\",root)\n",
    "print(\"Max depth:\", sol.maxDepth(root))\n",
    "print(30*'=')\n",
    "print(\"symmetry tree:\",sym_root)\n",
    "print(\"Is symmetric:\",sol.isSymmetric(sym_root))\n",
    "# print(\"Is symmetric:\",sol.isSymmetric([]))"
   ]
  }
 ],
 "metadata": {
  "kernelspec": {
   "display_name": "Python 3",
   "language": "python",
   "name": "python3"
  },
  "language_info": {
   "codemirror_mode": {
    "name": "ipython",
    "version": 3
   },
   "file_extension": ".py",
   "mimetype": "text/x-python",
   "name": "python",
   "nbconvert_exporter": "python",
   "pygments_lexer": "ipython3",
   "version": "3.7.4"
  }
 },
 "nbformat": 4,
 "nbformat_minor": 4
}
