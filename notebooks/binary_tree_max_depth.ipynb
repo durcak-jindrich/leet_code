{
 "cells": [
  {
   "cell_type": "markdown",
   "metadata": {},
   "source": [
    "## Binary Tree Max Depth\n",
    "Given a binary tree, return its max depth.    \n",
    "<img src=\"img/max_depth.png\" alt=\"preorder traversal\" width=\"80%\"/>"
   ]
  },
  {
   "cell_type": "markdown",
   "metadata": {},
   "source": [
    "Given binary tree [3,9,20,null,null,15,7], Example of input/output:\n",
    "```\n",
    "    3\n",
    "   / \\\n",
    "  9  20\n",
    "    /  \\\n",
    "   15   7\n",
    "```\n",
    "return its max depth:\n",
    "```\n",
    "3\n",
    "```"
   ]
  },
  {
   "cell_type": "code",
   "execution_count": 5,
   "metadata": {},
   "outputs": [],
   "source": [
    "from data_structures.Node import TreeNode\n",
    "\n",
    "class Solution:\n",
    "    def maxDepth(self, root: TreeNode) -> int:\n",
    "        depth = 0\n",
    "        if root:\n",
    "            currentLayer = [root]\n",
    "            while currentLayer: #while currentLayer is not empty\n",
    "                depth += 1\n",
    "                nextLayer = []\n",
    "                for node in currentLayer:\n",
    "                    if node.left != None:\n",
    "                        nextLayer.append(node.left)\n",
    "                    if node.right != None:\n",
    "                        nextLayer.append(node.right)\n",
    "                currentLayer = nextLayer\n",
    "        return depth\n",
    "            "
   ]
  },
  {
   "cell_type": "code",
   "execution_count": 6,
   "metadata": {},
   "outputs": [],
   "source": [
    "from data_structures.Node import TreeNode\n",
    "\n",
    "# create input from example\n",
    "fifteen = TreeNode(15)\n",
    "seven = TreeNode(7)\n",
    "nine = TreeNode(9)\n",
    "twenty = TreeNode(20, left=fifteen, right=seven)\n",
    "root = TreeNode(3, left=nine, right=twenty)"
   ]
  },
  {
   "cell_type": "code",
   "execution_count": 7,
   "metadata": {},
   "outputs": [
    {
     "name": "stdout",
     "output_type": "stream",
     "text": [
      "tree: {val:3, left:{val:9, left:None, right:None}, right:{val:20, left:{val:15, left:None, right:None}, right:{val:7, left:None, right:None}}}\n",
      "Max depth: 3\n"
     ]
    }
   ],
   "source": [
    "sol = Solution()\n",
    "print(\"tree:\",root)\n",
    "print(\"Max depth:\", sol.maxDepth(root))"
   ]
  },
  {
   "cell_type": "code",
   "execution_count": null,
   "metadata": {},
   "outputs": [],
   "source": []
  }
 ],
 "metadata": {
  "kernelspec": {
   "display_name": "Python 3",
   "language": "python",
   "name": "python3"
  },
  "language_info": {
   "codemirror_mode": {
    "name": "ipython",
    "version": 3
   },
   "file_extension": ".py",
   "mimetype": "text/x-python",
   "name": "python",
   "nbconvert_exporter": "python",
   "pygments_lexer": "ipython3",
   "version": "3.7.4"
  }
 },
 "nbformat": 4,
 "nbformat_minor": 4
}
