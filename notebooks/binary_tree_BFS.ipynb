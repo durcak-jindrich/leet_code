{
 "cells": [
  {
   "cell_type": "markdown",
   "metadata": {},
   "source": [
    "# Breadth first search"
   ]
  },
  {
   "cell_type": "markdown",
   "metadata": {},
   "source": [
    "## Binary Tree Level-order Traversal\n",
    "Given a binary tree, return the level-order traversal of its nodes' values.  \n",
    "Example:  \n",
    "<img src=\"img/levelorder_traverse.png\" alt=\"levelorder traversal\" width=\"80%\"/>"
   ]
  },
  {
   "cell_type": "markdown",
   "metadata": {},
   "source": [
    "Given binary tree [3,9,20,null,null,15,7], Example of input/output:\n",
    "```\n",
    "    3\n",
    "   / \\\n",
    "  9  20\n",
    "    /  \\\n",
    "   15   7\n",
    "```\n",
    "return its level order traversal as:\n",
    "```\n",
    "[\n",
    "  [3],\n",
    "  [9,20],\n",
    "  [15,7]\n",
    "]\n",
    "```"
   ]
  },
  {
   "cell_type": "code",
   "execution_count": 34,
   "metadata": {},
   "outputs": [],
   "source": [
    "from typing import List\n",
    "\n",
    "# Definition for a binary tree node.\n",
    "class TreeNode:\n",
    "    def __init__(self, x, left=None, right=None):\n",
    "        self.val = x\n",
    "        self.left = left\n",
    "        self.right = right\n",
    "    def __str__(self):\n",
    "        return \"{{val:{self.val}, left:{self.left}, right:{self.right}}}\".format(self=self)\n",
    "    \n",
    "class Solution:\n",
    "    def levelOrder(self, root: TreeNode) -> List[List[int]]:\n",
    "        if root:\n",
    "            ret = [[root.val]]\n",
    "            currentLayer = [root]\n",
    "            while currentLayer: #while currentLayer is not empty\n",
    "                nextLayer = []\n",
    "                nextLayerValues = []\n",
    "                for node in currentLayer:\n",
    "                    if node.left != None:\n",
    "                        nextLayer.append(node.left)\n",
    "                        nextLayerValues.append(node.left.val)\n",
    "                    if node.right != None:\n",
    "                        nextLayer.append(node.right)\n",
    "                        nextLayerValues.append(node.right.val)\n",
    "                currentLayer = nextLayer\n",
    "                if currentLayer:\n",
    "                    ret.append(nextLayerValues)\n",
    "        else:\n",
    "            ret = []\n",
    "        return ret\n"
   ]
  },
  {
   "cell_type": "code",
   "execution_count": 35,
   "metadata": {},
   "outputs": [],
   "source": [
    "# create input from example\n",
    "fifteen = TreeNode(15)\n",
    "seven = TreeNode(7)\n",
    "nine = TreeNode(9)\n",
    "twenty = TreeNode(20, left=fifteen, right=seven)\n",
    "root = TreeNode(3, left=nine, right=twenty)"
   ]
  },
  {
   "cell_type": "code",
   "execution_count": 36,
   "metadata": {},
   "outputs": [
    {
     "name": "stdout",
     "output_type": "stream",
     "text": [
      "tree:  {val:3, left:{val:9, left:None, right:None}, right:{val:20, left:{val:15, left:None, right:None}, right:{val:7, left:None, right:None}}}\n",
      "Level-order traversal:\t [[3], [9, 20], [15, 7]]\n"
     ]
    }
   ],
   "source": [
    "print(\"tree: \", root)\n",
    "sol = Solution()\n",
    "print(\"Level-order traversal:\\t\",sol.levelOrder(root))"
   ]
  },
  {
   "cell_type": "code",
   "execution_count": null,
   "metadata": {},
   "outputs": [],
   "source": []
  }
 ],
 "metadata": {
  "kernelspec": {
   "display_name": "Python 3",
   "language": "python",
   "name": "python3"
  },
  "language_info": {
   "codemirror_mode": {
    "name": "ipython",
    "version": 3
   },
   "file_extension": ".py",
   "mimetype": "text/x-python",
   "name": "python",
   "nbconvert_exporter": "python",
   "pygments_lexer": "ipython3",
   "version": "3.7.4"
  }
 },
 "nbformat": 4,
 "nbformat_minor": 4
}
